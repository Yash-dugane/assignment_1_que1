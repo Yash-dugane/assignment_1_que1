{
 "cells": [
  {
   "cell_type": "code",
   "execution_count": 1,
   "id": "ddb89038",
   "metadata": {},
   "outputs": [
    {
     "name": "stdout",
     "output_type": "stream",
     "text": [
      "1 1 2 3 5 8 13 21 34 "
     ]
    }
   ],
   "source": [
    "x = 0\n",
    "y = 1\n",
    "z = 1\n",
    "for i in range(0,9):\n",
    "    print(y, end = \" \")\n",
    "    x = y\n",
    "    y = z\n",
    "    z = x+y"
   ]
  }
 ],
 "metadata": {
  "kernelspec": {
   "display_name": "Python 3 (ipykernel)",
   "language": "python",
   "name": "python3"
  },
  "language_info": {
   "codemirror_mode": {
    "name": "ipython",
    "version": 3
   },
   "file_extension": ".py",
   "mimetype": "text/x-python",
   "name": "python",
   "nbconvert_exporter": "python",
   "pygments_lexer": "ipython3",
   "version": "3.10.1"
  }
 },
 "nbformat": 4,
 "nbformat_minor": 5
}
